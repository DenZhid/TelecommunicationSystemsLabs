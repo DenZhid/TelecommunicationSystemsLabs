{
  "nbformat": 4,
  "nbformat_minor": 0,
  "metadata": {
    "colab": {
      "name": "Lab9.ipynb",
      "provenance": [],
      "authorship_tag": "ABX9TyOx9Jy1HpA/T+lnT5WveFp/",
      "include_colab_link": true
    },
    "kernelspec": {
      "name": "python3",
      "display_name": "Python 3"
    },
    "language_info": {
      "name": "python"
    }
  },
  "cells": [
    {
      "cell_type": "markdown",
      "metadata": {
        "id": "view-in-github",
        "colab_type": "text"
      },
      "source": [
        "<a href=\"https://colab.research.google.com/github/DenZhid/TelecommunicationSystemsLabs/blob/main/Lab9.ipynb\" target=\"_parent\"><img src=\"https://colab.research.google.com/assets/colab-badge.svg\" alt=\"Open In Colab\"/></a>"
      ]
    },
    {
      "cell_type": "markdown",
      "source": [
        "# **Упражнение 9.1**\n",
        "\n",
        "Блокнот для этой главы - *chap09.ipynb*. Прочитайте его и запустите код.\n",
        "\n",
        "В разделе \"Нарастающая сумма\" на стр. 119 отмечено, что некоторые примеры на работают с апериодическими сигналами. Замените периодический пилообразный сигнал на непериодические данные Faceebook и посмотрите, что пойдет не так."
      ],
      "metadata": {
        "id": "oNo6FXfzGure"
      }
    },
    {
      "cell_type": "code",
      "source": [
        ""
      ],
      "metadata": {
        "id": "04ab9TFBHM7x"
      },
      "execution_count": null,
      "outputs": []
    },
    {
      "cell_type": "markdown",
      "source": [
        "# **упражнение 9.2**\n",
        "\n",
        "В этом упражнении изучается влияние *diff* и *differentiate* на сигнал. Создайте треугольный сигнал и напечатайте его. Примените *diff* к сигналу и напчатайте резлуьтат. Вычислите спектр треугольного сигнала, примените *differentiate* и напечатайте результат. Преобразуйте спектр обратно в сигнал и напечатайте его. Есть ли различия в воздействии *diff* и *differentiate* на этот сигнал?"
      ],
      "metadata": {
        "id": "p2kccysfHNSp"
      }
    },
    {
      "cell_type": "code",
      "source": [
        ""
      ],
      "metadata": {
        "id": "72IF5DSMHxc_"
      },
      "execution_count": null,
      "outputs": []
    },
    {
      "cell_type": "markdown",
      "source": [
        "# **Упражнение 9.3**\n",
        "\n",
        "В данном упражнении изучается влияние *cumsum* и *integrate* на сигнал. Создайте прямоугольный сигнал и напечатайте его. Примените *cumsum* и напечатайте результат. Вычислите спектр прямоугольного сигнала, примените *integrate* и напечатайте результат. Преобразуйте спектр обратно в сигнал и напечатайте его. Есть ли различия в воздействии *cumsum* и *integrate* на этот сигнал?"
      ],
      "metadata": {
        "id": "6zZCLwhqHxuJ"
      }
    },
    {
      "cell_type": "code",
      "source": [
        ""
      ],
      "metadata": {
        "id": "Yd4Bk5XnIVYH"
      },
      "execution_count": null,
      "outputs": []
    },
    {
      "cell_type": "markdown",
      "source": [
        "# **Упражнение 9.4**\n",
        "\n",
        "В данному упражнении изучается влияние двойного интегрирования. Создайте пилообразный сигнал, вычислите его спектр, а затем дважды примените *integrate*. Напечатайте результирующий сигнал и его спектр. Какова математическая форма сигнала? Почему он напоминает синусоиду?"
      ],
      "metadata": {
        "id": "vUAyBO4OIVqg"
      }
    },
    {
      "cell_type": "code",
      "source": [
        ""
      ],
      "metadata": {
        "id": "GGhCmIwtIr0c"
      },
      "execution_count": null,
      "outputs": []
    },
    {
      "cell_type": "markdown",
      "source": [
        "# **Упражнение 9.5**\n",
        "\n",
        "В этом упражнении изучается влияние второй разности и второй производной. Создайте *CubicSignal*, определенный в *thinkdsp*. Вычислите вторую разность, дважды применив *diff*. Как выглядит результат? Вычислите вторую производную, дважды применив *differentiate* к спектру. Похожи ли результаты?\n",
        "\n",
        "Распечатайте фильтры, соответсвтующие второй разнице и второй производной, и сравните их. Подсказка: для того чтобы получить фильтры в одном масштабе, используйте сигнал с частотой кадров 1."
      ],
      "metadata": {
        "id": "-HxzVgnYIsDe"
      }
    },
    {
      "cell_type": "code",
      "source": [
        ""
      ],
      "metadata": {
        "id": "RSV9L-FMJeG8"
      },
      "execution_count": null,
      "outputs": []
    }
  ]
}