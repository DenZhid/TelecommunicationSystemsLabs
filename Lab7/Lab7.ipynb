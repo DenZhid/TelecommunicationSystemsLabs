{
  "nbformat": 4,
  "nbformat_minor": 0,
  "metadata": {
    "colab": {
      "name": "Lab7.ipynb",
      "provenance": [],
      "authorship_tag": "ABX9TyNT+QWzoZK9BT0bI1c22tEg",
      "include_colab_link": true
    },
    "kernelspec": {
      "name": "python3",
      "display_name": "Python 3"
    },
    "language_info": {
      "name": "python"
    }
  },
  "cells": [
    {
      "cell_type": "markdown",
      "metadata": {
        "id": "view-in-github",
        "colab_type": "text"
      },
      "source": [
        "<a href=\"https://colab.research.google.com/github/DenZhid/TelecommunicationSystemsLabs/blob/main/Lab7/Lab7.ipynb\" target=\"_parent\"><img src=\"https://colab.research.google.com/assets/colab-badge.svg\" alt=\"Open In Colab\"/></a>"
      ]
    },
    {
      "cell_type": "markdown",
      "source": [
        "# **Зависимости**"
      ],
      "metadata": {
        "id": "i7PiSn7lkaK2"
      }
    },
    {
      "cell_type": "code",
      "source": [
        "import numpy as np\n",
        "PI2 = 2 * np.pi"
      ],
      "metadata": {
        "id": "TEOm2wHIkZ1c"
      },
      "execution_count": 1,
      "outputs": []
    },
    {
      "cell_type": "markdown",
      "source": [
        "# **Упражнение 7.1**\n",
        "\n",
        "В блокноте для этой главы, *chap07.ipynb*, представлены дополнительные примеры и пояснения. Прочитайте блокнот и запустите код.\n",
        "\n",
        "**Ход работы:**\n",
        "\n",
        "В представленном блокноте была изучена работа дополнительных примеров и пояснения к ним."
      ],
      "metadata": {
        "id": "ZJZGo02KfIMl"
      }
    },
    {
      "cell_type": "markdown",
      "source": [
        "# **Упражнение 7.2**\n",
        "\n",
        "В этой главе показано, как выразить ДПФ и обратное ДПФ произведениями матриц. Время выполнения этих операций пропорционально *$N^2$*, где *$N$* - длина массива сигнала. Во многих случаях этого достаточно, но есть алгоритм и побыстрее - быстрое преобразованье Фурье (БПФ); время его работы пропорционально *$NlogN$*.\n",
        "\n",
        "Ключ к БПФ - это лемма Дэниелсона-Ланцоша (Danielson-Lanczos):\n",
        "\n",
        "$DFT()[n]=DFT(e)[n]+exp(-2i\\pi n/N)DFT(o)[n]$\n",
        "\n",
        "где $DFT(y)[n]$ - этой $n$-й элемент ДПФ от $y$, $e$ и $o$ - массивы сигнала, содержащие соответственно четные и нечетные элементы $y$ю\n",
        "\n",
        "Эта лемма предлагает рекурсивный алгоритм для ДПФ:\n",
        "1.   Дан массив сигнала $y$. Разделим его на четные и элементы $e$ и нечетные элементы $o$.\n",
        "2.   Вычислим $DFT$ $e$ и $o$, делая рекурсивные вызовы.\n",
        "3.   Вычислим $DFT(y)$ для каждого значения $n$, используя лемму Дэниелсона-Ланцоша.\n",
        "\n",
        "В простешем случае эту рекурсию надо продолжать, пока длина $y$ не дойет до 1. Тогда $DFT(y)$ - $y$. А если длина $y$ достаточно мала, можно вычислить его ДПФ перемножением матриц, используя заранее вычисленные матрицы.\n",
        "\n",
        "Подсказка: реализовывать этот алгоритм стоит постепенно, начав с нерекурсивной версии. На шаге 2, вместо того, чтобы делать рекурсивный вызов, используйте *dft*, как показано в разделе \"ДПФ\" на стр. 93, или *np.fit.fit*. Отладьте шаг 3 и проверьте, согласуются ли результаты с другими реализациями. Затем добавьте базовый случай и убедитесь, что он работает. И наконец, замените шаг 2 на рекурсивные вызовы.\n",
        "\n",
        "Примечание: помните, что ДПФ периодично; попробуйте применить *np.title*.\n",
        "\n",
        "О БПФ можно прочитать подробнее в Википедии: [https://ru.wikipedia.org/wiki/Быстрое_преобразование_Фурье](https://ru.wikipedia.org/wiki/Быстрое_преобразование_Фурье).\n",
        "\n",
        "**Ход работы:**\n",
        "\n",
        "Начнём с небольшого сигнала и вычсислим для него БПФ:"
      ],
      "metadata": {
        "id": "MngoYOJifoq9"
      }
    },
    {
      "cell_type": "code",
      "source": [
        "ys = [-0.5, 0.1, 0.7, -0.1]\n",
        "hs = np.fft.fft(ys)"
      ],
      "metadata": {
        "id": "l9XDmo43gg2-"
      },
      "execution_count": 2,
      "outputs": []
    },
    {
      "cell_type": "markdown",
      "source": [
        "Имплементируем алгоритм ДПФ без рекурсии (представленный в книге):"
      ],
      "metadata": {
        "id": "GN6xhL91ljrU"
      }
    },
    {
      "cell_type": "code",
      "source": [
        "def dft(ys):\n",
        "    N = len(ys)\n",
        "    ts = np.arange(N) / N\n",
        "    freqs = np.arange(N)\n",
        "    args = np.outer(ts, freqs)\n",
        "    M = np.exp(1j * PI2 * args)\n",
        "    amps = M.conj().transpose().dot(ys)\n",
        "    return amps"
      ],
      "metadata": {
        "id": "s6AbZGehlnDO"
      },
      "execution_count": 3,
      "outputs": []
    },
    {
      "cell_type": "code",
      "source": [
        "hs2 = dft(ys)\n",
        "np.sum(np.abs(hs - hs2))"
      ],
      "metadata": {
        "id": "EQhEz0XMlydp",
        "outputId": "c15717dc-a426-49a8-fb02-c861a9c91dc7",
        "colab": {
          "base_uri": "https://localhost:8080/"
        }
      },
      "execution_count": 4,
      "outputs": [
        {
          "output_type": "execute_result",
          "data": {
            "text/plain": [
              "5.864775846765962e-16"
            ]
          },
          "metadata": {},
          "execution_count": 4
        }
      ]
    },
    {
      "cell_type": "markdown",
      "source": [
        "Данная реализация даёт такой же результат.\n",
        "\n",
        "Теперь попробуем разбивать входной массив и использовать функцию БПФ, используемую выше для вычисления половин."
      ],
      "metadata": {
        "id": "MdJ-9AgRlrrJ"
      }
    },
    {
      "cell_type": "code",
      "source": [
        "def fft_norec(ys):\n",
        "    N = len(ys)\n",
        "    He = np.fft.fft(ys[::2])\n",
        "    Ho = np.fft.fft(ys[1::2])\n",
        "    ns = np.arange(N)\n",
        "    W = np.exp(-1j * PI2 * ns / N)\n",
        "    return np.tile(He, 2) + W * np.tile(Ho, 2)"
      ],
      "metadata": {
        "id": "oZQd1p_slvVZ"
      },
      "execution_count": 9,
      "outputs": []
    },
    {
      "cell_type": "code",
      "source": [
        "hs3 = fft_norec(ys)\n",
        "np.sum(np.abs(hs - hs3))"
      ],
      "metadata": {
        "id": "rxrT1dfYmHir",
        "outputId": "20a844a0-ab7f-4672-e440-6487b8e5ff34",
        "colab": {
          "base_uri": "https://localhost:8080/"
        }
      },
      "execution_count": 10,
      "outputs": [
        {
          "output_type": "execute_result",
          "data": {
            "text/plain": [
              "0.0"
            ]
          },
          "metadata": {},
          "execution_count": 10
        }
      ]
    },
    {
      "cell_type": "markdown",
      "source": [
        "И снова результат совпал (правда теперь он округлился до 0).\n",
        "\n",
        "А теперь заменим вызовы функции БПФ, рекурсивными вызовами."
      ],
      "metadata": {
        "id": "RvtXA3rZmRhJ"
      }
    },
    {
      "cell_type": "code",
      "source": [
        "def fft(ys):\n",
        "    N = len(ys)\n",
        "    if N == 1:\n",
        "        return ys\n",
        "    He = fft(ys[::2])\n",
        "    Ho = fft(ys[1::2])\n",
        "    ns = np.arange(N)\n",
        "    W = np.exp(-1j * PI2 * ns / N)\n",
        "    return np.tile(He, 2) + W * np.tile(Ho, 2)"
      ],
      "metadata": {
        "id": "zhrFIgq5mTz0"
      },
      "execution_count": 7,
      "outputs": []
    },
    {
      "cell_type": "markdown",
      "source": [
        "Посмотрим на результат."
      ],
      "metadata": {
        "id": "QgTU9fa4mlLZ"
      }
    },
    {
      "cell_type": "code",
      "source": [
        "hs4 = fft(ys)\n",
        "np.sum(np.abs(hs - hs4))"
      ],
      "metadata": {
        "id": "IuzeObchmm4C",
        "outputId": "77bb05b3-ff07-4ff7-b12b-e5b6a1dae1df",
        "colab": {
          "base_uri": "https://localhost:8080/"
        }
      },
      "execution_count": 8,
      "outputs": [
        {
          "output_type": "execute_result",
          "data": {
            "text/plain": [
              "1.6653345369377348e-16"
            ]
          },
          "metadata": {},
          "execution_count": 8
        }
      ]
    },
    {
      "cell_type": "markdown",
      "source": [
        "Результат снова оказался приблежённым к первичному."
      ],
      "metadata": {
        "id": "2L0PfIl9mouz"
      }
    }
  ]
}