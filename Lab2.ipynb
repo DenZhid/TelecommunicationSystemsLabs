{
  "nbformat": 4,
  "nbformat_minor": 0,
  "metadata": {
    "colab": {
      "name": "Lab2.ipynb",
      "provenance": [],
      "authorship_tag": "ABX9TyNl1/37Xwz34uNP6jRw/b19",
      "include_colab_link": true
    },
    "kernelspec": {
      "name": "python3",
      "display_name": "Python 3"
    },
    "language_info": {
      "name": "python"
    }
  },
  "cells": [
    {
      "cell_type": "markdown",
      "metadata": {
        "id": "view-in-github",
        "colab_type": "text"
      },
      "source": [
        "<a href=\"https://colab.research.google.com/github/DenZhid/TelecommunicationSystemsLabs/blob/main/Lab2.ipynb\" target=\"_parent\"><img src=\"https://colab.research.google.com/assets/colab-badge.svg\" alt=\"Open In Colab\"/></a>"
      ]
    },
    {
      "cell_type": "markdown",
      "source": [
        "# **Упражнений 2.1**\n",
        "Прочитать пояснения и выполнить примеры в https://colab.research.google.com/github/AllenDowney/ThinkDSP/blob/master/code/chap02.ipynb\n",
        "\n",
        "**Ход работы**\n",
        "\n",
        "По представленной ссылке была изучена работа примеров."
      ],
      "metadata": {
        "id": "T_nnL_TiAGTU"
      }
    },
    {
      "cell_type": "code",
      "execution_count": null,
      "metadata": {
        "id": "bs5EZThTAFnv"
      },
      "outputs": [],
      "source": [
        ""
      ]
    },
    {
      "cell_type": "markdown",
      "source": [
        "#**Упражнение 2.2**\n",
        "\n",
        "Пилообразный сигнал линейно нарастает от -1 до 1, а затем резко падает до -1 и повторяется.\n",
        "\n",
        "Напишите класс, называемые *SawtoothSignal*, расширяющий *signal* и предоставляющий evaluate для оценки пилообразного сигнала.\n",
        "\n",
        "Вычислите спектр пилообразного сигнала. Как соотносится его гармоническая структура с треугольным и прямоугольным "
      ],
      "metadata": {
        "id": "wLzweWrDA6tK"
      }
    },
    {
      "cell_type": "code",
      "source": [
        ""
      ],
      "metadata": {
        "id": "_dJAkP1cBd84"
      },
      "execution_count": null,
      "outputs": []
    },
    {
      "cell_type": "markdown",
      "source": [
        "#**Упражнение 2.3**\n",
        "\n",
        "Создайте прямоугольный сигнал 1100 Гц и вычислите wave с выборками 10 000 кадров в секунду. Постройте спектр и убедитесь, что большинство гармоник \"завернуты\" из-за биений. Слышны ли последствия этого при проигрывании?"
      ],
      "metadata": {
        "id": "9AZPejb2BeDq"
      }
    },
    {
      "cell_type": "code",
      "source": [
        ""
      ],
      "metadata": {
        "id": "cZxDS53FB_4J"
      },
      "execution_count": null,
      "outputs": []
    },
    {
      "cell_type": "markdown",
      "source": [
        "#**Упражнение 2.4**\n",
        "\n",
        "Возьмите объект *Spectrum* и распечатайте несколько первых значений *spectrum.fs*. Убедитесь, что они начинаются с нуля, то есть *Spectrum.hs[0]* - амплитуда компоненты с частотой 0. Но что это значит?\n",
        "\n",
        "Проведите такой эксперимент:\n",
        "\n",
        "\n",
        "1.   Созайте треугольный сигнал с частотой 440 Гц и *wave* длительностью 0,01 секунд. Распечатайте сигнал.\n",
        "2.   Создайте объект *Spectrum* и распечатайте *Spectrum.hs[0]*. Каковы амплитуды и фаза этого компонента?\n",
        "3.   Установите *Spectrum.hs[0] = 100*. Как эта операция повлияет на сигнал? Подсказка: *Spectrum* дает метод, называемый *make_wave*, высчитывающий *wave*, соответствующий *Spectrum*.\n",
        "\n"
      ],
      "metadata": {
        "id": "bcRYOLrUB_8D"
      }
    },
    {
      "cell_type": "code",
      "source": [
        ""
      ],
      "metadata": {
        "id": "2ZnYmXCMKUux"
      },
      "execution_count": null,
      "outputs": []
    },
    {
      "cell_type": "markdown",
      "source": [
        "#**Упражнение 2.5**\n",
        "\n",
        "Напишите функцию, принимающую *Spectrum*, как параметр и изменяющую его делением каждого элемента *hs* на соответсвующую частоту из *fs*. Подсказка: посколькую деление на ноль не определено, надо задать *Spectrum.hs[0] = 0*.\n",
        "\n",
        "Проверьте функцию, используя прямоугольный, треугольный и пилообразный сигналы:\n",
        "\n",
        "\n",
        "1.   Вычислите *Spectrum* и распечатайте его.\n",
        "2.   Измените *Spectrum*, вновь используя свою функцию, и распечатайте его.\n",
        "3.   Используйте *Spectrum.make_wave*, чтобы сделать *wave* из изменённого *Spectrum*, и прослушайте его. Как эта операция повлияла на сигнал?\n",
        "\n"
      ],
      "metadata": {
        "id": "QnGzm-0yKVHQ"
      }
    },
    {
      "cell_type": "code",
      "source": [
        ""
      ],
      "metadata": {
        "id": "VXHdwu8RLgkS"
      },
      "execution_count": null,
      "outputs": []
    },
    {
      "cell_type": "markdown",
      "source": [
        "# **Упражнение 2.6**\n",
        "\n",
        "У треугольных и прямоугольных сигналов есть только нечетные гармоники; в пилообразном сигнале есть и четные, и нечетные гармоники. Гармоники прямоугольных и пилообразных сигналов уменьшаются пропорционально $1/f$; гармоники треугольных сигналов - пропорционально $1/f^2$. Можно ли найти сигнал, состоящий из четных и нечетных гармоник, спадающих пропорционально $1/f^2$?\n",
        "\n",
        "Подсказка: для этого есть два способа. Можно собрать желаемый сигнал из синусоид, а можно взять сигнал со спектром, похожим на необходимый, и изменять его параметры."
      ],
      "metadata": {
        "id": "HW_ixuoRLg58"
      }
    },
    {
      "cell_type": "code",
      "source": [
        ""
      ],
      "metadata": {
        "id": "EaDVBOa7Oe0K"
      },
      "execution_count": null,
      "outputs": []
    }
  ]
}