{
  "nbformat": 4,
  "nbformat_minor": 0,
  "metadata": {
    "colab": {
      "name": "Lab5.ipynb",
      "provenance": [],
      "authorship_tag": "ABX9TyOrB+cOq8SdI2RlgHyQzmpJ",
      "include_colab_link": true
    },
    "kernelspec": {
      "name": "python3",
      "display_name": "Python 3"
    },
    "language_info": {
      "name": "python"
    }
  },
  "cells": [
    {
      "cell_type": "markdown",
      "metadata": {
        "id": "view-in-github",
        "colab_type": "text"
      },
      "source": [
        "<a href=\"https://colab.research.google.com/github/DenZhid/TelecommunicationSystemsLabs/blob/main/Lab5.ipynb\" target=\"_parent\"><img src=\"https://colab.research.google.com/assets/colab-badge.svg\" alt=\"Open In Colab\"/></a>"
      ]
    },
    {
      "cell_type": "markdown",
      "source": [
        "# **Упражнение 5.1**\n",
        "\n",
        "Блокнот Jupyter этой главы, *chap05.ipynb*, содержит приложение, в котором можно вычислить автокорреляции для различных *lag*. Оцените высоты тона вокального чирпа для нескольких времен начала сегмента."
      ],
      "metadata": {
        "id": "ZJZGo02KfIMl"
      }
    },
    {
      "cell_type": "code",
      "source": [
        ""
      ],
      "metadata": {
        "id": "Zw-C8e-mfoY6"
      },
      "execution_count": null,
      "outputs": []
    },
    {
      "cell_type": "markdown",
      "source": [
        "# **Упражнение 5.2**\n",
        "\n",
        "Пример кода в *chap05.ipynb* показывает, как использовать автокорреляцию для оценки основной частоты периодического сигнала. Инкапсулируйте этот код в функцию, наванную *eastimate_fundamental*, и используйте для отслеживания высоты тона записанного звука.\n",
        "\n",
        "Проверьте, насколько хорошо она работает, накладывая оценки высоты тона на спектрограмму записи."
      ],
      "metadata": {
        "id": "MngoYOJifoq9"
      }
    },
    {
      "cell_type": "code",
      "source": [
        ""
      ],
      "metadata": {
        "id": "l9XDmo43gg2-"
      },
      "execution_count": null,
      "outputs": []
    },
    {
      "cell_type": "markdown",
      "source": [
        "# **Упражнение 5.3**\n",
        "\n",
        "Для упражнений в предыдущей главе были нужны исторические цены BitCoins, и надо быдл оценить спектр мощности изменения цен. Используя те же данные, вычислите автокорреляции цен в платежной системе Bitcoin. Быстро ли спадет авткорреляциионная функция? Есть ли признаки периодичности процесса?"
      ],
      "metadata": {
        "id": "v5cPC04rggdf"
      }
    },
    {
      "cell_type": "code",
      "source": [
        ""
      ],
      "metadata": {
        "id": "iHO9zj97g3ck"
      },
      "execution_count": null,
      "outputs": []
    },
    {
      "cell_type": "markdown",
      "source": [
        "# **Упражнение 5.4**\n",
        "\n",
        "В репозитории этой книги есть блокнот Jupyter под названием *saxophone.ipynb*, в котором исследуются автокорреляция, восприятие высоты тона и явление, называемое *подавленная основная*. Прочтите этот блокнот и \"погоняйте\" примеры. Выберите другой сегмент записи и вновь поработайте с примерами.\n",
        "\n",
        "У Ви Харт (Vi Hart) есть отличное видео под названием \"Так что же там с шумами? (Наука и математика звука, частота и высота тона)\". Она демонстриурет феномен подавленной основной и объясняет, как воспринимается высота тона (по крайней мере, насколько об этом известно). См. [https://www.yotube.com/watch?v=i_0DXxNeaQ0](https://www.yotube.com/watch?v=i_0DXxNeaQ0) "
      ],
      "metadata": {
        "id": "zTcWJVfrg3vV"
      }
    },
    {
      "cell_type": "code",
      "source": [
        ""
      ],
      "metadata": {
        "id": "OM0u7KA5VAxc"
      },
      "execution_count": null,
      "outputs": []
    }
  ]
}