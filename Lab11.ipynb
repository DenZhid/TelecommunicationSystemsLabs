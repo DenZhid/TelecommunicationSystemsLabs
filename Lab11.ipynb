{
  "nbformat": 4,
  "nbformat_minor": 0,
  "metadata": {
    "colab": {
      "name": "Lab11.ipynb",
      "provenance": [],
      "authorship_tag": "ABX9TyMrwLR8bzp7a4O/hKS5La47",
      "include_colab_link": true
    },
    "kernelspec": {
      "name": "python3",
      "display_name": "Python 3"
    },
    "language_info": {
      "name": "python"
    }
  },
  "cells": [
    {
      "cell_type": "markdown",
      "metadata": {
        "id": "view-in-github",
        "colab_type": "text"
      },
      "source": [
        "<a href=\"https://colab.research.google.com/github/DenZhid/TelecommunicationSystemsLabs/blob/main/Lab11.ipynb\" target=\"_parent\"><img src=\"https://colab.research.google.com/assets/colab-badge.svg\" alt=\"Open In Colab\"/></a>"
      ]
    },
    {
      "cell_type": "markdown",
      "source": [
        "# **Упражнение 11.1**\n",
        "\n",
        "Код для этой главы содержится в блокноте *chap11.ipynb*. Изучите его и прослушайте примеры."
      ],
      "metadata": {
        "id": "oNo6FXfzGure"
      }
    },
    {
      "cell_type": "code",
      "source": [
        ""
      ],
      "metadata": {
        "id": "04ab9TFBHM7x"
      },
      "execution_count": null,
      "outputs": []
    },
    {
      "cell_type": "markdown",
      "source": [
        "# **Упражнение 11.2**\n",
        "\n",
        "Крис \"Монти\" Монтгомери (Chris \"Monty\" Montgomery) сделал отличное видео под названием \"D/a and A/D | Digital Show and Tell\". Он демонстрирует теорему о выборках в действии, и представляет множество другой замечательной информации о выборках.\n",
        "См. видеоролик [https://www.youtube.com/watch?v=cIQ9IXSUzuM](https://www.youtube.com/watch?v=cIQ9IXSUzuM)."
      ],
      "metadata": {
        "id": "p2kccysfHNSp"
      }
    },
    {
      "cell_type": "code",
      "source": [
        ""
      ],
      "metadata": {
        "id": "72IF5DSMHxc_"
      },
      "execution_count": null,
      "outputs": []
    },
    {
      "cell_type": "markdown",
      "source": [
        "# **Упражнение 11.3**\n",
        "\n",
        "Выше показано, что при взятии выборок из сигнала при слишком низкой частоте кадров составляющие, большие частоты заворота дадут биения. В таком случае эти компоненты не отфильтруешь, поскольку они неотличимы от более низких частот.\n",
        "\n",
        "Полезно отфильтровать эти частоты до выборки: фильтр НЧ, используемы для этой цели, называется *фильтром сглаживания*.\n",
        "\n",
        "Вернитесь к примеру \"Соло на барабане\", примените фильтр НЧ до выборки, а затем, опять же с помощью фильтра НЧ, удалите спектральные копии, вызванные выборкой. Результат должен быть идентичен отфильтрованному сигналу."
      ],
      "metadata": {
        "id": "86xJ6QmmMYia"
      }
    }
  ]
}