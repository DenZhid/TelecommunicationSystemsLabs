{
  "nbformat": 4,
  "nbformat_minor": 0,
  "metadata": {
    "colab": {
      "name": "Lab1.ipynb",
      "provenance": [],
      "authorship_tag": "ABX9TyPC8JSDHBpWz6KOVyeWA5Wt",
      "include_colab_link": true
    },
    "kernelspec": {
      "name": "python3",
      "display_name": "Python 3"
    },
    "language_info": {
      "name": "python"
    }
  },
  "cells": [
    {
      "cell_type": "markdown",
      "metadata": {
        "id": "view-in-github",
        "colab_type": "text"
      },
      "source": [
        "<a href=\"https://colab.research.google.com/github/DenZhid/TelecommunicationSystemsLabs/blob/main/Lab1.ipynb\" target=\"_parent\"><img src=\"https://colab.research.google.com/assets/colab-badge.svg\" alt=\"Open In Colab\"/></a>"
      ]
    },
    {
      "cell_type": "markdown",
      "source": [
        "# **Упражнение 1.1**\n",
        "Прочитать пояснения и запустить примеры в https://colab.research.google.com/github/AllenDowney/ThinkDSP/blob/master/code/chap01.ipynb .\n",
        "\n",
        "**Ход работы:**\n",
        "\n",
        "По представленной ссылке была изучена работа примеров.\n"
      ],
      "metadata": {
        "id": "hu6WTg4tP9hQ"
      }
    },
    {
      "cell_type": "code",
      "source": [
        "import os\n",
        "\n",
        "if not os.path.exists('thinkdsp.py'):\n",
        "  !wget https://github.com/AllenDowney/ThinkDSP/raw/master/code/thinkdsp.py"
      ],
      "metadata": {
        "id": "EvmFOF5AVbbA"
      },
      "execution_count": null,
      "outputs": []
    },
    {
      "cell_type": "markdown",
      "source": [
        "# **Упражнение 1.2**\n",
        "\n",
        "  Скачайте с сайта http://freesound.org образец звука, включающий музыку, речь или иные звуки, имеющие четко выраженную высоту. Выделите примерно получекундный сегмент, в котором высота постоянная. Вычислите и распечатайте спектр выбранного сегмента. Как связаны тембр звука и гармоническая структура, видимая в спектре?\n",
        "\n",
        "  Используйте *high_pass*, *low_pass* и *band_stop* для фильтрации тех или иных гармоник. Затем преобразуйте спектры обратно в сигнал и послушайте его. Как звук соотноситься с изменениями, сделанными в спектре?"
      ],
      "metadata": {
        "id": "7QI78s9lT_fb"
      }
    },
    {
      "cell_type": "code",
      "execution_count": null,
      "metadata": {
        "id": "0B_S09X1rhjy"
      },
      "outputs": [],
      "source": [
        ""
      ]
    },
    {
      "cell_type": "markdown",
      "source": [
        "# **Упражнение 1.3**\n",
        "\n",
        "Создайте сложный сигнал из объектов *SinSignal* и *CosSignal* суммируя их. Обработайте сигнал для получения *wave* и прослушайте его. Вычислите *Spectrum* и распечатайте. Что произойдёт при добавлении частотных компонент, не кратных основным?"
      ],
      "metadata": {
        "id": "RIDml9wVUYR0"
      }
    },
    {
      "cell_type": "code",
      "source": [
        "from thinkdsp import CosSignal, SinSignal\n",
        "from IPython.display import Audio\n",
        "\n",
        "cos_sig = CosSignal(freq=220, amp=2.0, offset=0)\n",
        "sin_sig = SinSignal(freq=550, amp=0.5, offset=1.5)\n",
        "\n",
        "mix = sin_sig + cos_sig\n",
        "wave = mix.make_wave(duration=0.5, start=0, framerate=11025)\n",
        "wave.make_audio()"
      ],
      "metadata": {
        "colab": {
          "base_uri": "https://localhost:8080/",
          "height": 75
        },
        "id": "fGfMh6l2UwZr",
        "outputId": "21d1725e-7726-4838-c053-4d4576dae324"
      },
      "execution_count": null,
      "outputs": [
        {
          "output_type": "execute_result",
          "data": {
            "text/html": [
              "\n",
              "                <audio controls=\"controls\" >\n",
              "                    <source src=\"data:audio/wav;base64,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\" type=\"audio/wav\" />\n",
              "                    Your browser does not support the audio element.\n",
              "                </audio>\n",
              "              "
            ],
            "text/plain": [
              "<IPython.lib.display.Audio object>"
            ]
          },
          "metadata": {},
          "execution_count": 9
        }
      ]
    },
    {
      "cell_type": "code",
      "source": [
        ""
      ],
      "metadata": {
        "id": "WBfs3xx6W4v-"
      },
      "execution_count": null,
      "outputs": []
    },
    {
      "cell_type": "markdown",
      "source": [
        "# **Упражнени 1.4**\n",
        "\n",
        "Напишите функцию *stretch*, берущую *wave* и коэффициент изменения. Она должна ускорять или замедлять сигнал изменением *ts* и *framerate*. Подсказака: должно получиться всего две строки кода."
      ],
      "metadata": {
        "id": "F1qfUt9XUwpm"
      }
    },
    {
      "cell_type": "code",
      "source": [
        ""
      ],
      "metadata": {
        "id": "UY_pYGSvVKXd"
      },
      "execution_count": null,
      "outputs": []
    }
  ]
}