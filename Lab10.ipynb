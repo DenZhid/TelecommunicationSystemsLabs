{
  "nbformat": 4,
  "nbformat_minor": 0,
  "metadata": {
    "colab": {
      "name": "Lab10.ipynb",
      "provenance": [],
      "authorship_tag": "ABX9TyO/NemkuwDOYhr3+Z7+sMhd",
      "include_colab_link": true
    },
    "kernelspec": {
      "name": "python3",
      "display_name": "Python 3"
    },
    "language_info": {
      "name": "python"
    }
  },
  "cells": [
    {
      "cell_type": "markdown",
      "metadata": {
        "id": "view-in-github",
        "colab_type": "text"
      },
      "source": [
        "<a href=\"https://colab.research.google.com/github/DenZhid/TelecommunicationSystemsLabs/blob/main/Lab10.ipynb\" target=\"_parent\"><img src=\"https://colab.research.google.com/assets/colab-badge.svg\" alt=\"Open In Colab\"/></a>"
      ]
    },
    {
      "cell_type": "markdown",
      "source": [
        "# **Упражнение 10.1**\n",
        "\n",
        "В разделе \"Системы и свертка\" на стр. 131 свертка описана как сумма сдвинутых и масштабированных копий сигнала.\n",
        "\n",
        "А в разделе \"Аккустическая характеристика\" на стр. 128 умножение ДПФ сигнала на передаточную функцию соответствует *круговой свертке*, но в предположении периодичности сигнала. В результате можно заметить, что на выходе, в начале фрагмента, слышна лишняя нота, \"затекшая\" из конца этого фрагмента.\n",
        "\n",
        "К счастью, есть стандартное решение этой проблемы. Если перед вычислением ДПФ добавить достаточно нулей в конец сигнала, эффекта \"заворота\" можно избежать.\n",
        "\n",
        "Измените пример в *chap10.ipynb* и убедитесь, что дополнение нулями устраняет лишнюю ноту в начале фрагмента."
      ],
      "metadata": {
        "id": "oNo6FXfzGure"
      }
    },
    {
      "cell_type": "code",
      "source": [
        ""
      ],
      "metadata": {
        "id": "04ab9TFBHM7x"
      },
      "execution_count": null,
      "outputs": []
    },
    {
      "cell_type": "markdown",
      "source": [
        "# **Упражнение 10.2**\n",
        "\n",
        "Библиотека Open AIR (свободный эфир) - это \"централизованный... онлайн-ресурс для тех, кто интересуется аурализацией и данными акустической импульсной характеристики\" ([http://www.openairlib.net](http://www.openairlib.net)). Просмотрите эту коллекцию импульсных характеристик и скачайте ту, звучание которой интереснее. Найдите короткие записи с той же частотой дискретизации, что у скачанной импульсной характеристики.\n",
        "\n",
        "Смоделируйте двумя способами звучание записи в том пространтсве, где была измерена импульсивная характеристика, как сверткой самой записи с импульсной характеристикой, так и умножением ДПФ записи на вычисленный фильтр, соответсвуюший импульсной характеристике."
      ],
      "metadata": {
        "id": "p2kccysfHNSp"
      }
    },
    {
      "cell_type": "code",
      "source": [
        ""
      ],
      "metadata": {
        "id": "72IF5DSMHxc_"
      },
      "execution_count": null,
      "outputs": []
    }
  ]
}