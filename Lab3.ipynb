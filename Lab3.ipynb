{
  "nbformat": 4,
  "nbformat_minor": 0,
  "metadata": {
    "colab": {
      "name": "Lab3.ipynb",
      "provenance": [],
      "authorship_tag": "ABX9TyMP95H9yNjFSXZCAxuvmSd8",
      "include_colab_link": true
    },
    "kernelspec": {
      "name": "python3",
      "display_name": "Python 3"
    },
    "language_info": {
      "name": "python"
    }
  },
  "cells": [
    {
      "cell_type": "markdown",
      "metadata": {
        "id": "view-in-github",
        "colab_type": "text"
      },
      "source": [
        "<a href=\"https://colab.research.google.com/github/DenZhid/TelecommunicationSystemsLabs/blob/main/Lab3.ipynb\" target=\"_parent\"><img src=\"https://colab.research.google.com/assets/colab-badge.svg\" alt=\"Open In Colab\"/></a>"
      ]
    },
    {
      "cell_type": "markdown",
      "source": [
        "# **Упражнение 3.1**\n",
        "\n",
        "Прочитать пояснения и выполнить примеры в https://colab.research.google.com/github/AllenDowney/ThinkDSP/blob/master/code/chap03.ipynb"
      ],
      "metadata": {
        "id": "JIaPGCA3PHnJ"
      }
    },
    {
      "cell_type": "code",
      "execution_count": null,
      "metadata": {
        "id": "Q7uFgODIPEvv"
      },
      "outputs": [],
      "source": [
        ""
      ]
    },
    {
      "cell_type": "markdown",
      "source": [
        "# **Упражнени 3.2**\n",
        "\n",
        "Напишите класс, называемый *SawtoothChirp*, расширяющий *Chirp* и переопределяющий *evaluate* для генерации пилообразного сигнала с линейно увеличивающейся (или уменьшающейся) частотой.\n",
        "\n",
        "Подсказка: надо совместить функции *evaluate* и *Chirp* и *SawtoothSignal*.\n",
        "\n",
        "Нарисуйте эскиз спектрограммы этого сигнала, а затем распечатайте её. Эффект биений должен быть очевиден, а если сигнал внимательно прослушать, то биения можно и услышать."
      ],
      "metadata": {
        "id": "xk1V3PWqbKqx"
      }
    },
    {
      "cell_type": "code",
      "source": [
        ""
      ],
      "metadata": {
        "id": "A1OZKllRb5J_"
      },
      "execution_count": null,
      "outputs": []
    },
    {
      "cell_type": "markdown",
      "source": [
        "# **Упражнение 3.3**\n",
        "\n",
        "Создайте пилообразный чирп, меняющийся от 2500 до 3000 Гц, и на его основе сгенерируйте сигнал длительностью 1 с. и частотой кадров 20 кГц. Нарисуйте, каким примерно будет *Spectrum*. Затем распечатайте *Spectrum* и посмотрите, правы ли вы."
      ],
      "metadata": {
        "id": "Bmml-pTRb5bj"
      }
    },
    {
      "cell_type": "code",
      "source": [
        ""
      ],
      "metadata": {
        "id": "g98dBPpycPj1"
      },
      "execution_count": null,
      "outputs": []
    },
    {
      "cell_type": "markdown",
      "source": [
        "# **Упражение 3.4**\n",
        "\n",
        "В музыкальной терминологии *глиссандо* - это нота, меняющаяся от одной высоты до другой, то есть своеобразный чирп.\n",
        "\n",
        "Найдите или запишите звук глиссандо и распечатайте спектрограмму первых нескольких секунд."
      ],
      "metadata": {
        "id": "J8i0be88cPn2"
      }
    },
    {
      "cell_type": "code",
      "source": [
        ""
      ],
      "metadata": {
        "id": "qta6_EWBcpn0"
      },
      "execution_count": null,
      "outputs": []
    },
    {
      "cell_type": "markdown",
      "source": [
        "# **Упражнение 3.5**\n",
        "\n",
        "Тромбонист играет глиссандо, непрерывно дуя в мундштук и двигая кулису тромбона. При этом общая длина трубы меняется, а играемая нота обратно пропорциональна этой длине.\n",
        "\n",
        "Если предположить, что музыкант двигает кулису с постоянной скоростью, как будет меняться во времени частота?\n",
        "\n",
        "Напишите класс, называемый *TromboneGliss*, расширяющий *Chirp* и предоставляющий *evaluate*. Создайте сигнал, имитирующий глиссадо на тромбоне от C3 до F3, и обратно до C3. С3 - 262 Гц;\n",
        "F3 - 349 Гц.\n",
        "\n",
        "Напечатайте спектрограмму полученного сигнала. На что похоже глиссандо на тромбоне - на линейный или же экспоненциальный чирп?"
      ],
      "metadata": {
        "id": "QNn2OPb4cprV"
      }
    },
    {
      "cell_type": "code",
      "source": [
        ""
      ],
      "metadata": {
        "id": "yBKJS48LddM6"
      },
      "execution_count": null,
      "outputs": []
    },
    {
      "cell_type": "markdown",
      "source": [
        "# **Упражнение 3.6**\n",
        "\n",
        "Сделайте или найдите запись серии гласных звуков и посмотрите на спектрограммую Сможете ли вы различить разные гласные?"
      ],
      "metadata": {
        "id": "FLmlXqIZddQY"
      }
    },
    {
      "cell_type": "code",
      "source": [
        ""
      ],
      "metadata": {
        "id": "rk4nAEsFd9Wr"
      },
      "execution_count": null,
      "outputs": []
    }
  ]
}