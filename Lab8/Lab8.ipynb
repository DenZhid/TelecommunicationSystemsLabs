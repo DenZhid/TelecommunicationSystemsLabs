{
  "nbformat": 4,
  "nbformat_minor": 0,
  "metadata": {
    "colab": {
      "name": "Lab8.ipynb",
      "provenance": [],
      "authorship_tag": "ABX9TyPuh6NtNXt8B5l9GzrbDqRt",
      "include_colab_link": true
    },
    "kernelspec": {
      "name": "python3",
      "display_name": "Python 3"
    },
    "language_info": {
      "name": "python"
    }
  },
  "cells": [
    {
      "cell_type": "markdown",
      "metadata": {
        "id": "view-in-github",
        "colab_type": "text"
      },
      "source": [
        "<a href=\"https://colab.research.google.com/github/DenZhid/TelecommunicationSystemsLabs/blob/main/Lab8/Lab8.ipynb\" target=\"_parent\"><img src=\"https://colab.research.google.com/assets/colab-badge.svg\" alt=\"Open In Colab\"/></a>"
      ]
    },
    {
      "cell_type": "markdown",
      "source": [
        "# **Зависимости**"
      ],
      "metadata": {
        "id": "1-R3bp0ynm6S"
      }
    },
    {
      "cell_type": "code",
      "source": [
        "import os\n",
        "import scipy.signal\n",
        "import ipywidgets as widgets\n",
        "import numpy as np\n",
        "import matplotlib.pyplot as plt\n",
        "\n",
        "if not os.path.exists('thinkdsp.py'):\n",
        "    !wget https://github.com/AllenDowney/ThinkDSP/raw/master/code/thinkdsp.py\n",
        "\n",
        "from ipywidgets import interact, interactive, fixed\n",
        "from thinkdsp import decorate\n",
        "from thinkdsp import SquareSignal"
      ],
      "metadata": {
        "id": "XxUxAZUBnqTi"
      },
      "execution_count": null,
      "outputs": []
    },
    {
      "cell_type": "markdown",
      "source": [
        "# **Упражнение 8.1**\n",
        "\n",
        "Блокнот для этой главы - *chap08.ipynb*. Прочитайте его и запустите код.\n",
        "\n",
        "В нем есть интерактивный виджет, где можно экспериментировать с параметрами гауссова окна и изучить их влияние на частоту среза.\n",
        "\n",
        "Что случится, если при увелечении ширины гауссова окна *std* не увеличивать число элементов в окне *м*?"
      ],
      "metadata": {
        "id": "ZJZGo02KfIMl"
      }
    },
    {
      "cell_type": "code",
      "source": [
        ""
      ],
      "metadata": {
        "id": "Zw-C8e-mfoY6"
      },
      "execution_count": null,
      "outputs": []
    },
    {
      "cell_type": "markdown",
      "source": [
        "# **Упражнение 8.2**\n",
        "\n",
        "В этой лаве утверждается, что преобразование Фурье гауссовой кривой - также гауссова кривая. Для дискретно преобразования Фурье это соотношение приблизительно верно.\n",
        "\n",
        "Попробуйте его на нескольких примерах. Что происходит с преобразованием Фурье, если меняется *std*?\n",
        "\n",
        "\n"
      ],
      "metadata": {
        "id": "MngoYOJifoq9"
      }
    },
    {
      "cell_type": "code",
      "source": [
        ""
      ],
      "metadata": {
        "id": "l9XDmo43gg2-"
      },
      "execution_count": null,
      "outputs": []
    },
    {
      "cell_type": "markdown",
      "source": [
        "# **Упражнение 8.3**\n",
        "\n",
        "В упражнениях к главе 3 изучалось влияние на утечки спектра окна Хэмминга и некоторых других, предоставляемых NumPy. Глубже понять эти окна можно, изучив их ДПФ.\n",
        "\n",
        "В дополнение к Гауссову окну, использованному в этой главе, создаёте окно Хемминга тех же ращмеровю Дополните окно нулями и напечатайте его ДПФ. Какое окно больше подходит для фильтра НЧ? Полезно напечатать ДПФ с логарифмическим масштабом $y$.\n",
        "\n",
        "Поэксперементируйте с разными окнами и разными размерами этих окон."
      ],
      "metadata": {
        "id": "ZyRx07vgc8b9"
      }
    },
    {
      "cell_type": "code",
      "source": [
        ""
      ],
      "metadata": {
        "id": "LdGTAn02c804"
      },
      "execution_count": null,
      "outputs": []
    }
  ]
}