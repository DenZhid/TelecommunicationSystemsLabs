{
  "nbformat": 4,
  "nbformat_minor": 0,
  "metadata": {
    "colab": {
      "name": "Lab8.ipynb",
      "provenance": [],
      "authorship_tag": "ABX9TyPl68VT4rbU2Ev3ElCg1z3V",
      "include_colab_link": true
    },
    "kernelspec": {
      "name": "python3",
      "display_name": "Python 3"
    },
    "language_info": {
      "name": "python"
    },
    "widgets": {
      "application/vnd.jupyter.widget-state+json": {
        "035ff7d3925d406abd2ffd34a16ff86a": {
          "model_module": "@jupyter-widgets/controls",
          "model_name": "VBoxModel",
          "model_module_version": "1.5.0",
          "state": {
            "_dom_classes": [
              "widget-interact"
            ],
            "_model_module": "@jupyter-widgets/controls",
            "_model_module_version": "1.5.0",
            "_model_name": "VBoxModel",
            "_view_count": null,
            "_view_module": "@jupyter-widgets/controls",
            "_view_module_version": "1.5.0",
            "_view_name": "VBoxView",
            "box_style": "",
            "children": [
              "IPY_MODEL_f07dec04ed7c4795888393d41c36585b",
              "IPY_MODEL_0c2f6ade83694a97bcf58e6de02d43d2",
              "IPY_MODEL_d729600d2c5e4654a4f4961c5e0d4855"
            ],
            "layout": "IPY_MODEL_da3cb9ec27e747b9ba23e4e2cd36a338"
          }
        },
        "f07dec04ed7c4795888393d41c36585b": {
          "model_module": "@jupyter-widgets/controls",
          "model_name": "IntSliderModel",
          "model_module_version": "1.5.0",
          "state": {
            "_dom_classes": [],
            "_model_module": "@jupyter-widgets/controls",
            "_model_module_version": "1.5.0",
            "_model_name": "IntSliderModel",
            "_view_count": null,
            "_view_module": "@jupyter-widgets/controls",
            "_view_module_version": "1.5.0",
            "_view_name": "IntSliderView",
            "continuous_update": true,
            "description": "M",
            "description_tooltip": null,
            "disabled": false,
            "layout": "IPY_MODEL_116a535a174f496eb0c8aa3550f3f1e9",
            "max": 100,
            "min": 2,
            "orientation": "horizontal",
            "readout": true,
            "readout_format": "d",
            "step": 1,
            "style": "IPY_MODEL_a4b07e5b93854266b4a57161e3c39762",
            "value": 11
          }
        },
        "0c2f6ade83694a97bcf58e6de02d43d2": {
          "model_module": "@jupyter-widgets/controls",
          "model_name": "FloatSliderModel",
          "model_module_version": "1.5.0",
          "state": {
            "_dom_classes": [],
            "_model_module": "@jupyter-widgets/controls",
            "_model_module_version": "1.5.0",
            "_model_name": "FloatSliderModel",
            "_view_count": null,
            "_view_module": "@jupyter-widgets/controls",
            "_view_module_version": "1.5.0",
            "_view_name": "FloatSliderView",
            "continuous_update": true,
            "description": "std",
            "description_tooltip": null,
            "disabled": false,
            "layout": "IPY_MODEL_3296e030881c49d1b52c64f743264f77",
            "max": 20,
            "min": 0,
            "orientation": "horizontal",
            "readout": true,
            "readout_format": ".2f",
            "step": 0.1,
            "style": "IPY_MODEL_f8c1047ef49b4ff0a8ca5f61039fc1b2",
            "value": 2
          }
        },
        "d729600d2c5e4654a4f4961c5e0d4855": {
          "model_module": "@jupyter-widgets/output",
          "model_name": "OutputModel",
          "model_module_version": "1.0.0",
          "state": {
            "_dom_classes": [],
            "_model_module": "@jupyter-widgets/output",
            "_model_module_version": "1.0.0",
            "_model_name": "OutputModel",
            "_view_count": null,
            "_view_module": "@jupyter-widgets/output",
            "_view_module_version": "1.0.0",
            "_view_name": "OutputView",
            "layout": "IPY_MODEL_04726a53bed54ca8858aebd70444b465",
            "msg_id": "",
            "outputs": [
              {
                "output_type": "display_data",
                "data": {
                  "text/plain": "<Figure size 432x288 with 1 Axes>",
                  "image/png": "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\n"
                },
                "metadata": {
                  "needs_background": "light"
                }
              }
            ]
          }
        },
        "da3cb9ec27e747b9ba23e4e2cd36a338": {
          "model_module": "@jupyter-widgets/base",
          "model_name": "LayoutModel",
          "model_module_version": "1.2.0",
          "state": {
            "_model_module": "@jupyter-widgets/base",
            "_model_module_version": "1.2.0",
            "_model_name": "LayoutModel",
            "_view_count": null,
            "_view_module": "@jupyter-widgets/base",
            "_view_module_version": "1.2.0",
            "_view_name": "LayoutView",
            "align_content": null,
            "align_items": null,
            "align_self": null,
            "border": null,
            "bottom": null,
            "display": null,
            "flex": null,
            "flex_flow": null,
            "grid_area": null,
            "grid_auto_columns": null,
            "grid_auto_flow": null,
            "grid_auto_rows": null,
            "grid_column": null,
            "grid_gap": null,
            "grid_row": null,
            "grid_template_areas": null,
            "grid_template_columns": null,
            "grid_template_rows": null,
            "height": null,
            "justify_content": null,
            "justify_items": null,
            "left": null,
            "margin": null,
            "max_height": null,
            "max_width": null,
            "min_height": null,
            "min_width": null,
            "object_fit": null,
            "object_position": null,
            "order": null,
            "overflow": null,
            "overflow_x": null,
            "overflow_y": null,
            "padding": null,
            "right": null,
            "top": null,
            "visibility": null,
            "width": null
          }
        },
        "116a535a174f496eb0c8aa3550f3f1e9": {
          "model_module": "@jupyter-widgets/base",
          "model_name": "LayoutModel",
          "model_module_version": "1.2.0",
          "state": {
            "_model_module": "@jupyter-widgets/base",
            "_model_module_version": "1.2.0",
            "_model_name": "LayoutModel",
            "_view_count": null,
            "_view_module": "@jupyter-widgets/base",
            "_view_module_version": "1.2.0",
            "_view_name": "LayoutView",
            "align_content": null,
            "align_items": null,
            "align_self": null,
            "border": null,
            "bottom": null,
            "display": null,
            "flex": null,
            "flex_flow": null,
            "grid_area": null,
            "grid_auto_columns": null,
            "grid_auto_flow": null,
            "grid_auto_rows": null,
            "grid_column": null,
            "grid_gap": null,
            "grid_row": null,
            "grid_template_areas": null,
            "grid_template_columns": null,
            "grid_template_rows": null,
            "height": null,
            "justify_content": null,
            "justify_items": null,
            "left": null,
            "margin": null,
            "max_height": null,
            "max_width": null,
            "min_height": null,
            "min_width": null,
            "object_fit": null,
            "object_position": null,
            "order": null,
            "overflow": null,
            "overflow_x": null,
            "overflow_y": null,
            "padding": null,
            "right": null,
            "top": null,
            "visibility": null,
            "width": null
          }
        },
        "a4b07e5b93854266b4a57161e3c39762": {
          "model_module": "@jupyter-widgets/controls",
          "model_name": "SliderStyleModel",
          "model_module_version": "1.5.0",
          "state": {
            "_model_module": "@jupyter-widgets/controls",
            "_model_module_version": "1.5.0",
            "_model_name": "SliderStyleModel",
            "_view_count": null,
            "_view_module": "@jupyter-widgets/base",
            "_view_module_version": "1.2.0",
            "_view_name": "StyleView",
            "description_width": "",
            "handle_color": null
          }
        },
        "3296e030881c49d1b52c64f743264f77": {
          "model_module": "@jupyter-widgets/base",
          "model_name": "LayoutModel",
          "model_module_version": "1.2.0",
          "state": {
            "_model_module": "@jupyter-widgets/base",
            "_model_module_version": "1.2.0",
            "_model_name": "LayoutModel",
            "_view_count": null,
            "_view_module": "@jupyter-widgets/base",
            "_view_module_version": "1.2.0",
            "_view_name": "LayoutView",
            "align_content": null,
            "align_items": null,
            "align_self": null,
            "border": null,
            "bottom": null,
            "display": null,
            "flex": null,
            "flex_flow": null,
            "grid_area": null,
            "grid_auto_columns": null,
            "grid_auto_flow": null,
            "grid_auto_rows": null,
            "grid_column": null,
            "grid_gap": null,
            "grid_row": null,
            "grid_template_areas": null,
            "grid_template_columns": null,
            "grid_template_rows": null,
            "height": null,
            "justify_content": null,
            "justify_items": null,
            "left": null,
            "margin": null,
            "max_height": null,
            "max_width": null,
            "min_height": null,
            "min_width": null,
            "object_fit": null,
            "object_position": null,
            "order": null,
            "overflow": null,
            "overflow_x": null,
            "overflow_y": null,
            "padding": null,
            "right": null,
            "top": null,
            "visibility": null,
            "width": null
          }
        },
        "f8c1047ef49b4ff0a8ca5f61039fc1b2": {
          "model_module": "@jupyter-widgets/controls",
          "model_name": "SliderStyleModel",
          "model_module_version": "1.5.0",
          "state": {
            "_model_module": "@jupyter-widgets/controls",
            "_model_module_version": "1.5.0",
            "_model_name": "SliderStyleModel",
            "_view_count": null,
            "_view_module": "@jupyter-widgets/base",
            "_view_module_version": "1.2.0",
            "_view_name": "StyleView",
            "description_width": "",
            "handle_color": null
          }
        },
        "04726a53bed54ca8858aebd70444b465": {
          "model_module": "@jupyter-widgets/base",
          "model_name": "LayoutModel",
          "model_module_version": "1.2.0",
          "state": {
            "_model_module": "@jupyter-widgets/base",
            "_model_module_version": "1.2.0",
            "_model_name": "LayoutModel",
            "_view_count": null,
            "_view_module": "@jupyter-widgets/base",
            "_view_module_version": "1.2.0",
            "_view_name": "LayoutView",
            "align_content": null,
            "align_items": null,
            "align_self": null,
            "border": null,
            "bottom": null,
            "display": null,
            "flex": null,
            "flex_flow": null,
            "grid_area": null,
            "grid_auto_columns": null,
            "grid_auto_flow": null,
            "grid_auto_rows": null,
            "grid_column": null,
            "grid_gap": null,
            "grid_row": null,
            "grid_template_areas": null,
            "grid_template_columns": null,
            "grid_template_rows": null,
            "height": null,
            "justify_content": null,
            "justify_items": null,
            "left": null,
            "margin": null,
            "max_height": null,
            "max_width": null,
            "min_height": null,
            "min_width": null,
            "object_fit": null,
            "object_position": null,
            "order": null,
            "overflow": null,
            "overflow_x": null,
            "overflow_y": null,
            "padding": null,
            "right": null,
            "top": null,
            "visibility": null,
            "width": null
          }
        },
        "f9ea01fcdfd649638b4c201ed3512670": {
          "model_module": "@jupyter-widgets/controls",
          "model_name": "VBoxModel",
          "model_module_version": "1.5.0",
          "state": {
            "_dom_classes": [
              "widget-interact"
            ],
            "_model_module": "@jupyter-widgets/controls",
            "_model_module_version": "1.5.0",
            "_model_name": "VBoxModel",
            "_view_count": null,
            "_view_module": "@jupyter-widgets/controls",
            "_view_module_version": "1.5.0",
            "_view_name": "VBoxView",
            "box_style": "",
            "children": [
              "IPY_MODEL_58b4e6f464824f5d970d764482ad5f19",
              "IPY_MODEL_4fc0f6e3f1794942816533f1a4032d3f"
            ],
            "layout": "IPY_MODEL_cd278d8beee14b389fecaa125cef47b2"
          }
        },
        "58b4e6f464824f5d970d764482ad5f19": {
          "model_module": "@jupyter-widgets/controls",
          "model_name": "FloatSliderModel",
          "model_module_version": "1.5.0",
          "state": {
            "_dom_classes": [],
            "_model_module": "@jupyter-widgets/controls",
            "_model_module_version": "1.5.0",
            "_model_name": "FloatSliderModel",
            "_view_count": null,
            "_view_module": "@jupyter-widgets/controls",
            "_view_module_version": "1.5.0",
            "_view_name": "FloatSliderView",
            "continuous_update": true,
            "description": "std",
            "description_tooltip": null,
            "disabled": false,
            "layout": "IPY_MODEL_ce38fdc7f3f549668cde226deaa34043",
            "max": 10,
            "min": 0.1,
            "orientation": "horizontal",
            "readout": true,
            "readout_format": ".2f",
            "step": 0.1,
            "style": "IPY_MODEL_0d290fde4e394fd9b34a35e1bf9da882",
            "value": 2
          }
        },
        "4fc0f6e3f1794942816533f1a4032d3f": {
          "model_module": "@jupyter-widgets/output",
          "model_name": "OutputModel",
          "model_module_version": "1.0.0",
          "state": {
            "_dom_classes": [],
            "_model_module": "@jupyter-widgets/output",
            "_model_module_version": "1.0.0",
            "_model_name": "OutputModel",
            "_view_count": null,
            "_view_module": "@jupyter-widgets/output",
            "_view_module_version": "1.0.0",
            "_view_name": "OutputView",
            "layout": "IPY_MODEL_569c0b233371458eb04ee6a17dafe056",
            "msg_id": "",
            "outputs": [
              {
                "output_type": "display_data",
                "data": {
                  "text/plain": "<Figure size 432x288 with 2 Axes>",
                  "image/png": "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\n"
                },
                "metadata": {
                  "needs_background": "light"
                }
              }
            ]
          }
        },
        "cd278d8beee14b389fecaa125cef47b2": {
          "model_module": "@jupyter-widgets/base",
          "model_name": "LayoutModel",
          "model_module_version": "1.2.0",
          "state": {
            "_model_module": "@jupyter-widgets/base",
            "_model_module_version": "1.2.0",
            "_model_name": "LayoutModel",
            "_view_count": null,
            "_view_module": "@jupyter-widgets/base",
            "_view_module_version": "1.2.0",
            "_view_name": "LayoutView",
            "align_content": null,
            "align_items": null,
            "align_self": null,
            "border": null,
            "bottom": null,
            "display": null,
            "flex": null,
            "flex_flow": null,
            "grid_area": null,
            "grid_auto_columns": null,
            "grid_auto_flow": null,
            "grid_auto_rows": null,
            "grid_column": null,
            "grid_gap": null,
            "grid_row": null,
            "grid_template_areas": null,
            "grid_template_columns": null,
            "grid_template_rows": null,
            "height": null,
            "justify_content": null,
            "justify_items": null,
            "left": null,
            "margin": null,
            "max_height": null,
            "max_width": null,
            "min_height": null,
            "min_width": null,
            "object_fit": null,
            "object_position": null,
            "order": null,
            "overflow": null,
            "overflow_x": null,
            "overflow_y": null,
            "padding": null,
            "right": null,
            "top": null,
            "visibility": null,
            "width": null
          }
        },
        "ce38fdc7f3f549668cde226deaa34043": {
          "model_module": "@jupyter-widgets/base",
          "model_name": "LayoutModel",
          "model_module_version": "1.2.0",
          "state": {
            "_model_module": "@jupyter-widgets/base",
            "_model_module_version": "1.2.0",
            "_model_name": "LayoutModel",
            "_view_count": null,
            "_view_module": "@jupyter-widgets/base",
            "_view_module_version": "1.2.0",
            "_view_name": "LayoutView",
            "align_content": null,
            "align_items": null,
            "align_self": null,
            "border": null,
            "bottom": null,
            "display": null,
            "flex": null,
            "flex_flow": null,
            "grid_area": null,
            "grid_auto_columns": null,
            "grid_auto_flow": null,
            "grid_auto_rows": null,
            "grid_column": null,
            "grid_gap": null,
            "grid_row": null,
            "grid_template_areas": null,
            "grid_template_columns": null,
            "grid_template_rows": null,
            "height": null,
            "justify_content": null,
            "justify_items": null,
            "left": null,
            "margin": null,
            "max_height": null,
            "max_width": null,
            "min_height": null,
            "min_width": null,
            "object_fit": null,
            "object_position": null,
            "order": null,
            "overflow": null,
            "overflow_x": null,
            "overflow_y": null,
            "padding": null,
            "right": null,
            "top": null,
            "visibility": null,
            "width": null
          }
        },
        "0d290fde4e394fd9b34a35e1bf9da882": {
          "model_module": "@jupyter-widgets/controls",
          "model_name": "SliderStyleModel",
          "model_module_version": "1.5.0",
          "state": {
            "_model_module": "@jupyter-widgets/controls",
            "_model_module_version": "1.5.0",
            "_model_name": "SliderStyleModel",
            "_view_count": null,
            "_view_module": "@jupyter-widgets/base",
            "_view_module_version": "1.2.0",
            "_view_name": "StyleView",
            "description_width": "",
            "handle_color": null
          }
        },
        "569c0b233371458eb04ee6a17dafe056": {
          "model_module": "@jupyter-widgets/base",
          "model_name": "LayoutModel",
          "model_module_version": "1.2.0",
          "state": {
            "_model_module": "@jupyter-widgets/base",
            "_model_module_version": "1.2.0",
            "_model_name": "LayoutModel",
            "_view_count": null,
            "_view_module": "@jupyter-widgets/base",
            "_view_module_version": "1.2.0",
            "_view_name": "LayoutView",
            "align_content": null,
            "align_items": null,
            "align_self": null,
            "border": null,
            "bottom": null,
            "display": null,
            "flex": null,
            "flex_flow": null,
            "grid_area": null,
            "grid_auto_columns": null,
            "grid_auto_flow": null,
            "grid_auto_rows": null,
            "grid_column": null,
            "grid_gap": null,
            "grid_row": null,
            "grid_template_areas": null,
            "grid_template_columns": null,
            "grid_template_rows": null,
            "height": null,
            "justify_content": null,
            "justify_items": null,
            "left": null,
            "margin": null,
            "max_height": null,
            "max_width": null,
            "min_height": null,
            "min_width": null,
            "object_fit": null,
            "object_position": null,
            "order": null,
            "overflow": null,
            "overflow_x": null,
            "overflow_y": null,
            "padding": null,
            "right": null,
            "top": null,
            "visibility": null,
            "width": null
          }
        }
      }
    }
  },
  "cells": [
    {
      "cell_type": "markdown",
      "metadata": {
        "id": "view-in-github",
        "colab_type": "text"
      },
      "source": [
        "<a href=\"https://colab.research.google.com/github/DenZhid/TelecommunicationSystemsLabs/blob/main/Lab8/Lab8.ipynb\" target=\"_parent\"><img src=\"https://colab.research.google.com/assets/colab-badge.svg\" alt=\"Open In Colab\"/></a>"
      ]
    },
    {
      "cell_type": "markdown",
      "source": [
        "# **Зависимости**"
      ],
      "metadata": {
        "id": "1-R3bp0ynm6S"
      }
    },
    {
      "cell_type": "code",
      "source": [
        "import os\n",
        "import scipy.signal\n",
        "import ipywidgets as widgets\n",
        "import numpy as np\n",
        "import matplotlib.pyplot as plt\n",
        "\n",
        "if not os.path.exists('thinkdsp.py'):\n",
        "    !wget https://github.com/AllenDowney/ThinkDSP/raw/master/code/thinkdsp.py\n",
        "\n",
        "from ipywidgets import interact, interactive, fixed\n",
        "from thinkdsp import decorate\n",
        "from thinkdsp import SquareSignal, Wave"
      ],
      "metadata": {
        "id": "XxUxAZUBnqTi"
      },
      "execution_count": 5,
      "outputs": []
    },
    {
      "cell_type": "markdown",
      "source": [
        "# **Упражнение 8.1**\n",
        "\n",
        "Блокнот для этой главы - *chap08.ipynb*. Прочитайте его и запустите код.\n",
        "\n",
        "В нем есть интерактивный виджет, где можно экспериментировать с параметрами гауссова окна и изучить их влияние на частоту среза.\n",
        "\n",
        "Что случится, если при увелечении ширины гауссова окна *std* не увеличивать число элементов в окне *м*?\n",
        "\n",
        "**Ход работы:**\n",
        "\n",
        "Имплементируем виджет из блокнота данной главы."
      ],
      "metadata": {
        "id": "ZJZGo02KfIMl"
      }
    },
    {
      "cell_type": "code",
      "source": [
        "def zero_pad(array, n):\n",
        "    res = np.zeros(n)\n",
        "    res[:len(array)] = array\n",
        "    return res\n",
        "\n",
        "def plot_filter(M=11, std=2):\n",
        "    signal = SquareSignal(freq=440)\n",
        "    wave = signal.make_wave(duration=1, framerate=44100)\n",
        "    spectrum = wave.make_spectrum()\n",
        "\n",
        "    gaussian = scipy.signal.gaussian(M=M, std=std)\n",
        "    gaussian /= sum(gaussian)\n",
        "\n",
        "    ys = np.convolve(wave.ys, gaussian, mode='same')\n",
        "    smooth =  Wave(ys, framerate=wave.framerate)\n",
        "    spectrum2 = smooth.make_spectrum()\n",
        "\n",
        "    amps = spectrum.amps\n",
        "    amps2 = spectrum2.amps\n",
        "    ratio = amps2 / amps    \n",
        "    ratio[amps<560] = 0\n",
        "\n",
        "    padded =  zero_pad(gaussian, len(wave))\n",
        "    dft_gaussian = np.fft.rfft(padded)\n",
        "\n",
        "    plt.plot(np.abs(dft_gaussian), color='gray', label='Гауссов фильтр')\n",
        "    plt.plot(ratio, label='соотношение амплитуд')\n",
        "\n",
        "    decorate(xlabel='Частота (Гц)', ylabel='Соотношение амплитуд')\n",
        "    plt.show()"
      ],
      "metadata": {
        "id": "Zw-C8e-mfoY6"
      },
      "execution_count": 8,
      "outputs": []
    },
    {
      "cell_type": "code",
      "source": [
        "slider = widgets.IntSlider(min=2, max=100, value=11)\n",
        "slider2 = widgets.FloatSlider(min=0, max=20, value=2)\n",
        "interact(plot_filter, M=slider, std=slider2);"
      ],
      "metadata": {
        "id": "Y1kJsf1g3P2k",
        "outputId": "b346379e-08b3-4e68-cc67-54b75796822a",
        "colab": {
          "base_uri": "https://localhost:8080/",
          "height": 361,
          "referenced_widgets": [
            "035ff7d3925d406abd2ffd34a16ff86a",
            "f07dec04ed7c4795888393d41c36585b",
            "0c2f6ade83694a97bcf58e6de02d43d2",
            "d729600d2c5e4654a4f4961c5e0d4855",
            "da3cb9ec27e747b9ba23e4e2cd36a338",
            "116a535a174f496eb0c8aa3550f3f1e9",
            "a4b07e5b93854266b4a57161e3c39762",
            "3296e030881c49d1b52c64f743264f77",
            "f8c1047ef49b4ff0a8ca5f61039fc1b2",
            "04726a53bed54ca8858aebd70444b465"
          ]
        }
      },
      "execution_count": 9,
      "outputs": [
        {
          "output_type": "display_data",
          "data": {
            "text/plain": [
              "interactive(children=(IntSlider(value=11, description='M', min=2), FloatSlider(value=2.0, description='std', m…"
            ],
            "application/vnd.jupyter.widget-view+json": {
              "version_major": 2,
              "version_minor": 0,
              "model_id": "035ff7d3925d406abd2ffd34a16ff86a"
            }
          },
          "metadata": {}
        }
      ]
    },
    {
      "cell_type": "markdown",
      "source": [
        "# **Упражнение 8.2**\n",
        "\n",
        "В этой главе утверждается, что преобразование Фурье гауссовой кривой - также гауссова кривая. Для дискретно преобразования Фурье это соотношение приблизительно верно.\n",
        "\n",
        "Попробуйте его на нескольких примерах. Что происходит с преобразованием Фурье, если меняется *std*?\n",
        "\n",
        "**Ход работы:**\n",
        "\n",
        "Начнём с гауссиана, похожего на пример в книге."
      ],
      "metadata": {
        "id": "MngoYOJifoq9"
      }
    },
    {
      "cell_type": "code",
      "source": [
        "gaussian = scipy.signal.gaussian(M=32, std=2)\n",
        "gaussian /= sum(gaussian)\n",
        "plt.plot(gaussian)\n",
        "decorate(xlabel='Индекс')"
      ],
      "metadata": {
        "id": "l9XDmo43gg2-",
        "outputId": "87429ebb-0926-4ca9-a6a0-6ed1d28f84d5",
        "colab": {
          "base_uri": "https://localhost:8080/",
          "height": 297
        }
      },
      "execution_count": 10,
      "outputs": [
        {
          "output_type": "display_data",
          "data": {
            "text/plain": [
              "<Figure size 432x288 with 1 Axes>"
            ],
            "image/png": "[encoded data removed]"
          },
          "metadata": {
            "needs_background": "light"
          }
        }
      ]
    },
    {
      "cell_type": "code",
      "source": [
        "fft_gaussian = np.fft.fft(gaussian)\n",
        "plt.plot(abs(fft_gaussian))\n",
        "decorate(xlabel='Частота (Гц)', ylabel='Амплитуда')"
      ],
      "metadata": {
        "id": "uPtlNK434uzk",
        "outputId": "b2ce56a3-08bb-4a7d-c054-82f8eebd6575",
        "colab": {
          "base_uri": "https://localhost:8080/",
          "height": 297
        }
      },
      "execution_count": 11,
      "outputs": [
        {
          "output_type": "display_data",
          "data": {
            "text/plain": [
              "<Figure size 432x288 with 1 Axes>"
            ],
            "image/png": "[encoded data removed]"
          },
          "metadata": {
            "needs_background": "light"
          }
        }
      ]
    },
    {
      "cell_type": "markdown",
      "source": [
        "Напишем функцию, которая отображает Гауссово кривую и Быстрое преобразование Фурье рядом с ним."
      ],
      "metadata": {
        "id": "GfNplOdi5FR9"
      }
    },
    {
      "cell_type": "code",
      "source": [
        "def plot_gaussian(std):\n",
        "    M = 32\n",
        "    gaussian = scipy.signal.gaussian(M=M, std=std)\n",
        "    gaussian /= sum(gaussian)\n",
        "    \n",
        "    plt.subplot(1, 2, 1)\n",
        "    plt.plot(gaussian)\n",
        "    decorate(xlabel='Время')\n",
        "\n",
        "    fft_gaussian = np.fft.fft(gaussian)\n",
        "    fft_rolled = np.roll(fft_gaussian, M//2)\n",
        "    \n",
        "    plt.subplot(1, 2, 2)\n",
        "    plt.plot(np.abs(fft_rolled))\n",
        "    decorate(xlabel='Частота')\n",
        "    plt.show()"
      ],
      "metadata": {
        "id": "EddYjbA94yNy"
      },
      "execution_count": 14,
      "outputs": []
    },
    {
      "cell_type": "code",
      "source": [
        "slider = widgets.FloatSlider(min=0.1, max=10, value=2)\n",
        "interact(plot_gaussian, std=slider);"
      ],
      "metadata": {
        "id": "lMds3MpK5fMR",
        "outputId": "5a47c0fa-2bfa-4474-aea3-f8983b80188b",
        "colab": {
          "base_uri": "https://localhost:8080/",
          "height": 329,
          "referenced_widgets": [
            "f9ea01fcdfd649638b4c201ed3512670",
            "58b4e6f464824f5d970d764482ad5f19",
            "4fc0f6e3f1794942816533f1a4032d3f",
            "cd278d8beee14b389fecaa125cef47b2",
            "ce38fdc7f3f549668cde226deaa34043",
            "0d290fde4e394fd9b34a35e1bf9da882",
            "569c0b233371458eb04ee6a17dafe056"
          ]
        }
      },
      "execution_count": 15,
      "outputs": [
        {
          "output_type": "display_data",
          "data": {
            "text/plain": [
              "interactive(children=(FloatSlider(value=2.0, description='std', max=10.0, min=0.1), Output()), _dom_classes=('…"
            ],
            "application/vnd.jupyter.widget-view+json": {
              "version_major": 2,
              "version_minor": 0,
              "model_id": "f9ea01fcdfd649638b4c201ed3512670"
            }
          },
          "metadata": {}
        }
      ]
    },
    {
      "cell_type": "markdown",
      "source": [
        "По мере увеличения `std` Гауссиан становится шире, а ее БПФ — уже."
      ],
      "metadata": {
        "id": "yUixMd5a5m-C"
      }
    },
    {
      "cell_type": "markdown",
      "source": [
        "# **Упражнение 8.3**\n",
        "\n",
        "В упражнениях к главе 3 изучалось влияние на утечки спектра окна Хэмминга и некоторых других, предоставляемых NumPy. Глубже понять эти окна можно, изучив их ДПФ.\n",
        "\n",
        "В дополнение к Гауссову окну, использованному в этой главе, создаёте окно Хемминга тех же ращмеровю Дополните окно нулями и напечатайте его ДПФ. Какое окно больше подходит для фильтра НЧ? Полезно напечатать ДПФ с логарифмическим масштабом $y$.\n",
        "\n",
        "Поэксперементируйте с разными окнами и разными размерами этих окон.\n",
        "\n",
        "**Ход работы**\n",
        "\n",
        "Создадим 1-секундную волну с частотой дискретизации 44,1 кГЦ."
      ],
      "metadata": {
        "id": "ZyRx07vgc8b9"
      }
    },
    {
      "cell_type": "code",
      "source": [
        "signal = SquareSignal(freq=440)\n",
        "wave = signal.make_wave(duration=1.0, framerate=44100)"
      ],
      "metadata": {
        "id": "LdGTAn02c804"
      },
      "execution_count": 16,
      "outputs": []
    },
    {
      "cell_type": "markdown",
      "source": [
        "Создадим несколько окон, выбрав стандартное отклонение окна Гаусса так, чтобы сделать его похожим на другие (для удобства)."
      ],
      "metadata": {
        "id": "nKPvfAMq6T4k"
      }
    },
    {
      "cell_type": "code",
      "source": [
        "gaussian = scipy.signal.gaussian(M=15, std=2.5)   \n",
        "bartlett = np.bartlett(15)\n",
        "blackman = np.blackman(15)\n",
        "hamming = np.hamming(15)\n",
        "hanning = np.hanning(15)\n",
        "\n",
        "windows = [blackman, gaussian, hanning, hamming]\n",
        "names = ['Блэкмана', 'Гаусса', 'Хэннинга', 'Хэмминга']\n",
        "\n",
        "for window in windows:\n",
        "    window /= sum(window)\n",
        "\n",
        "for window, name in zip(windows, names):\n",
        "    plt.plot(window, label=name)\n",
        "\n",
        "decorate(xlabel='Индекс')"
      ],
      "metadata": {
        "id": "l9aTSNPI6bTy",
        "outputId": "5d9d39ce-4d3a-4603-d998-28451de82bb9",
        "colab": {
          "base_uri": "https://localhost:8080/",
          "height": 297
        }
      },
      "execution_count": 19,
      "outputs": [
        {
          "output_type": "display_data",
          "data": {
            "text/plain": [
              "<Figure size 432x288 with 1 Axes>"
            ],
            "image/png": "[encoded data removed]"
          },
          "metadata": {
            "needs_background": "light"
          }
        }
      ]
    },
    {
      "cell_type": "markdown",
      "source": [
        "Выглядят похоже. Давайте теперь посмотрим на их функции ДПФ."
      ],
      "metadata": {
        "id": "j0qhVl3A61Mo"
      }
    },
    {
      "cell_type": "code",
      "source": [
        "def plot_window_dfts(windows, names):\n",
        "    for window, name in zip(windows, names):\n",
        "        padded =  zero_pad(window, len(wave))\n",
        "        dft_window = np.fft.rfft(padded)\n",
        "        plt.plot(abs(dft_window), label=name)"
      ],
      "metadata": {
        "id": "qpHH7c1v6-8T"
      },
      "execution_count": 20,
      "outputs": []
    },
    {
      "cell_type": "code",
      "source": [
        "plot_window_dfts(windows, names)\n",
        "decorate(xlabel='Частота (Гц)')"
      ],
      "metadata": {
        "id": "HKk1Mymk7B4C",
        "outputId": "f820f6be-1f20-4942-8f91-48216b1f6db5",
        "colab": {
          "base_uri": "https://localhost:8080/",
          "height": 297
        }
      },
      "execution_count": 21,
      "outputs": [
        {
          "output_type": "display_data",
          "data": {
            "text/plain": [
              "<Figure size 432x288 with 1 Axes>"
            ],
            "image/png": "[encoded data removed]"
          },
          "metadata": {
            "needs_background": "light"
          }
        }
      ]
    },
    {
      "cell_type": "markdown",
      "source": [
        "И их представление в логарифмическом масштабе."
      ],
      "metadata": {
        "id": "I7oAmJM57KsI"
      }
    },
    {
      "cell_type": "code",
      "source": [
        "plot_window_dfts(windows, names)\n",
        "decorate(xlabel='Частота (Гц)', yscale='log')"
      ],
      "metadata": {
        "id": "q2qKeWq77Ogg",
        "outputId": "519602c5-9c89-4118-a5f5-2fa17860bc16",
        "colab": {
          "base_uri": "https://localhost:8080/",
          "height": 297
        }
      },
      "execution_count": 22,
      "outputs": [
        {
          "output_type": "display_data",
          "data": {
            "text/plain": [
              "<Figure size 432x288 with 1 Axes>"
            ],
            "image/png": "[encoded data removed]"
          },
          "metadata": {
            "needs_background": "light"
          }
        }
      ]
    }
  ]
}