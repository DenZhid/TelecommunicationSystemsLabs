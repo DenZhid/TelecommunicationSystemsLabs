{
  "nbformat": 4,
  "nbformat_minor": 0,
  "metadata": {
    "colab": {
      "name": "Lab6.ipynb",
      "provenance": [],
      "authorship_tag": "ABX9TyNzirUk5G1G1YMxVdB4ZpH2",
      "include_colab_link": true
    },
    "kernelspec": {
      "name": "python3",
      "display_name": "Python 3"
    },
    "language_info": {
      "name": "python"
    }
  },
  "cells": [
    {
      "cell_type": "markdown",
      "metadata": {
        "id": "view-in-github",
        "colab_type": "text"
      },
      "source": [
        "<a href=\"https://colab.research.google.com/github/DenZhid/TelecommunicationSystemsLabs/blob/main/Lab6.ipynb\" target=\"_parent\"><img src=\"https://colab.research.google.com/assets/colab-badge.svg\" alt=\"Open In Colab\"/></a>"
      ]
    },
    {
      "cell_type": "markdown",
      "source": [
        "# **Упражнение 6.1**\n",
        "\n",
        "В этой главе утверждается, что *analyze1* требует времени пропорционально *$n^3$*, а *analyze2* - пропорционально *$n^2$*. Убедитесь в этом, запуская их с несколькими разными массивами и засекая время работы. В блокнотах Jupyter можно использовать \"волшебную команду\" **%timeit**.\n",
        "\n",
        "Если печатать зависимость времени работы от размера на логарифмической шкале, то получится прямая линия с уклоном 3 для *analyze1* и с уклоном 2 для *analyze2*.\n",
        "\n",
        "Также стоит поупражняться с *dct_iv* и *scipy.fftpack.dct*."
      ],
      "metadata": {
        "id": "ZJZGo02KfIMl"
      }
    },
    {
      "cell_type": "code",
      "source": [
        ""
      ],
      "metadata": {
        "id": "Zw-C8e-mfoY6"
      },
      "execution_count": null,
      "outputs": []
    },
    {
      "cell_type": "markdown",
      "source": [
        "# **Упражнение 6.2**\n",
        "\n",
        "Одно из основных применений ДКП - это *сжатие* звука и изображений. В простейшей форме ДКП при сжатии работает следующим образом:\n",
        "1.   Разбивает длинный сигнал на сегменты.\n",
        "2.   Вычисляет ДКП каждого сегмента.\n",
        "3.   Определяет частотные компоненты с такой амплитудой, что их не слышно, и удаляет их, сохраняя только оставшиеся частоты и амплитуды.\n",
        "4.   При воспроизведении сигнала загружает частоты и амплитуды каждого сегмента и применяет обратное ДКП.\n",
        "\n",
        "Реализуйте версию этого алгоритма и примените его для записи музыки или речь. Сколько компонент можно удалить до того, как разница станет заметной?\n",
        "\n",
        "Для того, чтобы этот метод стал практичным, нужен  способ хранения *прореженного массива*, то есть массива, где большинство элементов равно нулю. NumPy (SciPy) дает несколько способов работы с прореженными массивами; о них можно прочитать на веб-странице [http://docs.scipy.org//doc/scipy/reference/sparse.html](http://docs.scipy.org//doc/scipy/reference/sparse.html)\n",
        "\n"
      ],
      "metadata": {
        "id": "MngoYOJifoq9"
      }
    },
    {
      "cell_type": "code",
      "source": [
        ""
      ],
      "metadata": {
        "id": "l9XDmo43gg2-"
      },
      "execution_count": null,
      "outputs": []
    },
    {
      "cell_type": "markdown",
      "source": [
        "# **Упражнение 6.3**\n",
        "\n",
        "В репозитории этой книги есть блокнот Jupyter под названием *phase.ipynb*, в котором исследуется влияние фазы на восприятие звука. Прочтите блокнот и \"погоняйте\" примеры. Выберите иной сегмент звука и повторите эксперименты. Можно ли найти некие общие соотношения в фазовой структуре звука и его восприятии?"
      ],
      "metadata": {
        "id": "v5cPC04rggdf"
      }
    },
    {
      "cell_type": "code",
      "source": [
        ""
      ],
      "metadata": {
        "id": "iHO9zj97g3ck"
      },
      "execution_count": null,
      "outputs": []
    }
  ]
}